{
 "cells": [
  {
   "cell_type": "code",
   "execution_count": 1,
   "id": "5541873b",
   "metadata": {},
   "outputs": [
    {
     "name": "stdout",
     "output_type": "stream",
     "text": [
      "請輸入正整數:12\n",
      " 1 到 12 的整數和為 78\n"
     ]
    }
   ],
   "source": [
    "# Exercise 1: 計算1+2+....n\n",
    "sum = 0\n",
    "n = int (input(\"請輸入正整數:\"))\n",
    "for i in range(1, n+1):\n",
    "    sum += i\n",
    "print(\" 1 到 %d 的整數和為 %d\" % (n, sum))"
   ]
  },
  {
   "cell_type": "code",
   "execution_count": null,
   "id": "252ec5a8",
   "metadata": {},
   "outputs": [],
   "source": []
  }
 ],
 "metadata": {
  "kernelspec": {
   "display_name": "Python 3 (ipykernel)",
   "language": "python",
   "name": "python3"
  },
  "language_info": {
   "codemirror_mode": {
    "name": "ipython",
    "version": 3
   },
   "file_extension": ".py",
   "mimetype": "text/x-python",
   "name": "python",
   "nbconvert_exporter": "python",
   "pygments_lexer": "ipython3",
   "version": "3.7.16"
  }
 },
 "nbformat": 4,
 "nbformat_minor": 5
}
